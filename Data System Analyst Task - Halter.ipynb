{
 "cells": [
  {
   "cell_type": "code",
   "execution_count": 1,
   "id": "ee5354bf",
   "metadata": {},
   "outputs": [],
   "source": [
    "#Import libraries and import the excel file\n",
    "import pandas as pd\n",
    "import numpy as np\n",
    "import plotly.express as px\n",
    "\n",
    "collar_data_import = pd.read_csv(\"Data&Systems_Data.csv\")"
   ]
  },
  {
   "cell_type": "code",
   "execution_count": 2,
   "id": "8fc470e4",
   "metadata": {},
   "outputs": [
    {
     "data": {
      "text/html": [
       "<div>\n",
       "<style scoped>\n",
       "    .dataframe tbody tr th:only-of-type {\n",
       "        vertical-align: middle;\n",
       "    }\n",
       "\n",
       "    .dataframe tbody tr th {\n",
       "        vertical-align: top;\n",
       "    }\n",
       "\n",
       "    .dataframe thead th {\n",
       "        text-align: right;\n",
       "    }\n",
       "</style>\n",
       "<table border=\"1\" class=\"dataframe\">\n",
       "  <thead>\n",
       "    <tr style=\"text-align: right;\">\n",
       "      <th></th>\n",
       "      <th>longitude</th>\n",
       "      <th>latitude</th>\n",
       "      <th>odba</th>\n",
       "      <th>NZDT</th>\n",
       "      <th>serial_number</th>\n",
       "      <th>pitch</th>\n",
       "      <th>roll</th>\n",
       "      <th>heading</th>\n",
       "    </tr>\n",
       "  </thead>\n",
       "  <tbody>\n",
       "    <tr>\n",
       "      <th>0</th>\n",
       "      <td>1755903383</td>\n",
       "      <td>-376792167</td>\n",
       "      <td>952</td>\n",
       "      <td>2023/11/22 10:11</td>\n",
       "      <td>004-0010-00562</td>\n",
       "      <td>0.098045</td>\n",
       "      <td>0.712305</td>\n",
       "      <td>354.456898</td>\n",
       "    </tr>\n",
       "    <tr>\n",
       "      <th>1</th>\n",
       "      <td>1755903383</td>\n",
       "      <td>-376792167</td>\n",
       "      <td>258</td>\n",
       "      <td>2023/11/22 10:11</td>\n",
       "      <td>004-0010-00562</td>\n",
       "      <td>-0.090663</td>\n",
       "      <td>0.627568</td>\n",
       "      <td>354.639435</td>\n",
       "    </tr>\n",
       "    <tr>\n",
       "      <th>2</th>\n",
       "      <td>1755903400</td>\n",
       "      <td>-376792167</td>\n",
       "      <td>666</td>\n",
       "      <td>2023/11/22 10:11</td>\n",
       "      <td>004-0010-00562</td>\n",
       "      <td>-0.156609</td>\n",
       "      <td>0.026911</td>\n",
       "      <td>353.375315</td>\n",
       "    </tr>\n",
       "    <tr>\n",
       "      <th>3</th>\n",
       "      <td>1755903400</td>\n",
       "      <td>-376792183</td>\n",
       "      <td>320</td>\n",
       "      <td>2023/11/22 10:11</td>\n",
       "      <td>004-0010-00562</td>\n",
       "      <td>-0.448115</td>\n",
       "      <td>0.379047</td>\n",
       "      <td>353.842375</td>\n",
       "    </tr>\n",
       "    <tr>\n",
       "      <th>4</th>\n",
       "      <td>1755903400</td>\n",
       "      <td>-376792183</td>\n",
       "      <td>403</td>\n",
       "      <td>2023/11/22 10:11</td>\n",
       "      <td>004-0010-00562</td>\n",
       "      <td>-0.582295</td>\n",
       "      <td>1.248040</td>\n",
       "      <td>352.699415</td>\n",
       "    </tr>\n",
       "  </tbody>\n",
       "</table>\n",
       "</div>"
      ],
      "text/plain": [
       "    longitude   latitude  odba              NZDT   serial_number     pitch  \\\n",
       "0  1755903383 -376792167   952  2023/11/22 10:11  004-0010-00562  0.098045   \n",
       "1  1755903383 -376792167   258  2023/11/22 10:11  004-0010-00562 -0.090663   \n",
       "2  1755903400 -376792167   666  2023/11/22 10:11  004-0010-00562 -0.156609   \n",
       "3  1755903400 -376792183   320  2023/11/22 10:11  004-0010-00562 -0.448115   \n",
       "4  1755903400 -376792183   403  2023/11/22 10:11  004-0010-00562 -0.582295   \n",
       "\n",
       "       roll     heading  \n",
       "0  0.712305  354.456898  \n",
       "1  0.627568  354.639435  \n",
       "2  0.026911  353.375315  \n",
       "3  0.379047  353.842375  \n",
       "4  1.248040  352.699415  "
      ]
     },
     "execution_count": 2,
     "metadata": {},
     "output_type": "execute_result"
    }
   ],
   "source": [
    "#copy the original file so no changes can be made \n",
    "df_1 = collar_data_import.copy()\n",
    "df_1.head()"
   ]
  },
  {
   "cell_type": "code",
   "execution_count": 3,
   "id": "2bb71420",
   "metadata": {},
   "outputs": [
    {
     "data": {
      "text/plain": [
       "longitude          int64\n",
       "latitude           int64\n",
       "odba               int64\n",
       "NZDT              object\n",
       "serial_number     object\n",
       "pitch            float64\n",
       "roll             float64\n",
       "heading          float64\n",
       "dtype: object"
      ]
     },
     "execution_count": 3,
     "metadata": {},
     "output_type": "execute_result"
    }
   ],
   "source": [
    "#checking all the types for columns\n",
    "df_1.dtypes"
   ]
  },
  {
   "cell_type": "code",
   "execution_count": 4,
   "id": "09d07988",
   "metadata": {},
   "outputs": [],
   "source": [
    "# make another copy\n",
    "df_new = df_1.copy()"
   ]
  },
  {
   "cell_type": "code",
   "execution_count": 5,
   "id": "ffdae963",
   "metadata": {},
   "outputs": [
    {
     "data": {
      "text/html": [
       "<div>\n",
       "<style scoped>\n",
       "    .dataframe tbody tr th:only-of-type {\n",
       "        vertical-align: middle;\n",
       "    }\n",
       "\n",
       "    .dataframe tbody tr th {\n",
       "        vertical-align: top;\n",
       "    }\n",
       "\n",
       "    .dataframe thead th {\n",
       "        text-align: right;\n",
       "    }\n",
       "</style>\n",
       "<table border=\"1\" class=\"dataframe\">\n",
       "  <thead>\n",
       "    <tr style=\"text-align: right;\">\n",
       "      <th></th>\n",
       "      <th>longitude</th>\n",
       "      <th>latitude</th>\n",
       "      <th>odba</th>\n",
       "      <th>NZDT</th>\n",
       "      <th>serial_number</th>\n",
       "      <th>pitch</th>\n",
       "      <th>roll</th>\n",
       "      <th>heading</th>\n",
       "    </tr>\n",
       "  </thead>\n",
       "  <tbody>\n",
       "    <tr>\n",
       "      <th>0</th>\n",
       "      <td>1755903383</td>\n",
       "      <td>-376792167</td>\n",
       "      <td>952</td>\n",
       "      <td>2022-11-22 10:11:00</td>\n",
       "      <td>004-0010-00562</td>\n",
       "      <td>0.098045</td>\n",
       "      <td>0.712305</td>\n",
       "      <td>354.456898</td>\n",
       "    </tr>\n",
       "    <tr>\n",
       "      <th>1</th>\n",
       "      <td>1755903383</td>\n",
       "      <td>-376792167</td>\n",
       "      <td>258</td>\n",
       "      <td>2022-11-22 10:11:00</td>\n",
       "      <td>004-0010-00562</td>\n",
       "      <td>-0.090663</td>\n",
       "      <td>0.627568</td>\n",
       "      <td>354.639435</td>\n",
       "    </tr>\n",
       "    <tr>\n",
       "      <th>2</th>\n",
       "      <td>1755903400</td>\n",
       "      <td>-376792167</td>\n",
       "      <td>666</td>\n",
       "      <td>2022-11-22 10:11:00</td>\n",
       "      <td>004-0010-00562</td>\n",
       "      <td>-0.156609</td>\n",
       "      <td>0.026911</td>\n",
       "      <td>353.375315</td>\n",
       "    </tr>\n",
       "    <tr>\n",
       "      <th>3</th>\n",
       "      <td>1755903400</td>\n",
       "      <td>-376792183</td>\n",
       "      <td>320</td>\n",
       "      <td>2022-11-22 10:11:00</td>\n",
       "      <td>004-0010-00562</td>\n",
       "      <td>-0.448115</td>\n",
       "      <td>0.379047</td>\n",
       "      <td>353.842375</td>\n",
       "    </tr>\n",
       "    <tr>\n",
       "      <th>4</th>\n",
       "      <td>1755903400</td>\n",
       "      <td>-376792183</td>\n",
       "      <td>403</td>\n",
       "      <td>2022-11-22 10:11:00</td>\n",
       "      <td>004-0010-00562</td>\n",
       "      <td>-0.582295</td>\n",
       "      <td>1.248040</td>\n",
       "      <td>352.699415</td>\n",
       "    </tr>\n",
       "  </tbody>\n",
       "</table>\n",
       "</div>"
      ],
      "text/plain": [
       "    longitude   latitude  odba                NZDT   serial_number     pitch  \\\n",
       "0  1755903383 -376792167   952 2022-11-22 10:11:00  004-0010-00562  0.098045   \n",
       "1  1755903383 -376792167   258 2022-11-22 10:11:00  004-0010-00562 -0.090663   \n",
       "2  1755903400 -376792167   666 2022-11-22 10:11:00  004-0010-00562 -0.156609   \n",
       "3  1755903400 -376792183   320 2022-11-22 10:11:00  004-0010-00562 -0.448115   \n",
       "4  1755903400 -376792183   403 2022-11-22 10:11:00  004-0010-00562 -0.582295   \n",
       "\n",
       "       roll     heading  \n",
       "0  0.712305  354.456898  \n",
       "1  0.627568  354.639435  \n",
       "2  0.026911  353.375315  \n",
       "3  0.379047  353.842375  \n",
       "4  1.248040  352.699415  "
      ]
     },
     "execution_count": 5,
     "metadata": {},
     "output_type": "execute_result"
    }
   ],
   "source": [
    "#change NZDT types to datetime and The second line checks if any of the years in the \"NZDT\" \n",
    "#column are equal to 2024. \n",
    "#If there are, it adds one day to the datetime values\n",
    "#Now we convert the years back to 2022 assuming that we recorded the data that time.\n",
    "df_new[\"NZDT\"] = pd.to_datetime(df_new[\"NZDT\"])\n",
    "if (df_new[\"NZDT\"].dt.year == 2024).any():\n",
    "    df_new.loc[df_new[\"NZDT\"].dt.year == 2024, \"NZDT\"] += pd.Timedelta(days=1)\n",
    "\n",
    "df_new['NZDT'] = df_new['NZDT'].apply(lambda x: x.replace(year=2022))\n",
    "df_new.head()"
   ]
  },
  {
   "cell_type": "code",
   "execution_count": 6,
   "id": "7940a399",
   "metadata": {},
   "outputs": [],
   "source": [
    "#f_new = df_1.copy\n",
    "#df_new[\"NZDT\"] = pd.to_datetime(df_new[\"NZDT\"])\n",
    "#df_new['NZDT'] = df_new['NZDT'].apply(lambda x: x.replace(year=2022))\n",
    "#df_new.head()"
   ]
  },
  {
   "cell_type": "code",
   "execution_count": 8,
   "id": "b9288b7c",
   "metadata": {},
   "outputs": [
    {
     "data": {
      "text/plain": [
       "longitude                 int64\n",
       "latitude                  int64\n",
       "odba                      int64\n",
       "NZDT             datetime64[ns]\n",
       "serial_number            object\n",
       "pitch                   float64\n",
       "roll                    float64\n",
       "heading                 float64\n",
       "dtype: object"
      ]
     },
     "execution_count": 8,
     "metadata": {},
     "output_type": "execute_result"
    }
   ],
   "source": [
    "df_new.dtypes"
   ]
  },
  {
   "cell_type": "code",
   "execution_count": 9,
   "id": "53c10e0d",
   "metadata": {},
   "outputs": [
    {
     "data": {
      "text/plain": [
       "serial_number\n",
       "004-0010-00562    41820\n",
       "004-0011-00176    42110\n",
       "004-0011-01185     7380\n",
       "004-0015-01111    30395\n",
       "004-9035-00398    42320\n",
       "004-9037-00232    41540\n",
       "004-9038-00041    43870\n",
       "dtype: int64"
      ]
     },
     "execution_count": 9,
     "metadata": {},
     "output_type": "execute_result"
    }
   ],
   "source": [
    "#Data has been collected from 6 cows but there exist 7 serial numbers\n",
    "df_1.groupby(by = [\"serial_number\"]).size()"
   ]
  },
  {
   "cell_type": "code",
   "execution_count": 10,
   "id": "5751fe40",
   "metadata": {},
   "outputs": [
    {
     "data": {
      "text/plain": [
       "serial_number\n",
       "004-0011-01185    7380\n",
       "dtype: int64"
      ]
     },
     "execution_count": 10,
     "metadata": {},
     "output_type": "execute_result"
    }
   ],
   "source": [
    "#Split the data into 7 different variables because we have 7 serial number\n",
    "data1 = df_new[df_new[\"serial_number\"]== \"004-0010-00562\"]\n",
    "data2 = df_new[df_new[\"serial_number\"]== \"004-0011-00176\"]\n",
    "data3 = df_new[df_new[\"serial_number\"]== \"004-0011-01185\"]\n",
    "data4 = df_new[df_new[\"serial_number\"]== \"004-0015-01111\"]\n",
    "data5 = df_new[df_new[\"serial_number\"]== \"004-9035-00398\"]\n",
    "data6 = df_new[df_new[\"serial_number\"]== \"004-9037-00232\"]\n",
    "data7 = df_new[df_new[\"serial_number\"]== \"004-9038-00041\"]\n",
    "data3.groupby(by = [\"serial_number\"]).size()"
   ]
  },
  {
   "cell_type": "code",
   "execution_count": 11,
   "id": "8764feac",
   "metadata": {},
   "outputs": [
    {
     "data": {
      "text/html": [
       "<div>\n",
       "<style scoped>\n",
       "    .dataframe tbody tr th:only-of-type {\n",
       "        vertical-align: middle;\n",
       "    }\n",
       "\n",
       "    .dataframe tbody tr th {\n",
       "        vertical-align: top;\n",
       "    }\n",
       "\n",
       "    .dataframe thead th {\n",
       "        text-align: right;\n",
       "    }\n",
       "</style>\n",
       "<table border=\"1\" class=\"dataframe\">\n",
       "  <thead>\n",
       "    <tr style=\"text-align: right;\">\n",
       "      <th></th>\n",
       "      <th>longitude</th>\n",
       "      <th>latitude</th>\n",
       "      <th>odba</th>\n",
       "      <th>NZDT</th>\n",
       "      <th>serial_number</th>\n",
       "      <th>pitch</th>\n",
       "      <th>roll</th>\n",
       "      <th>heading</th>\n",
       "    </tr>\n",
       "  </thead>\n",
       "  <tbody>\n",
       "    <tr>\n",
       "      <th>0</th>\n",
       "      <td>1755903383</td>\n",
       "      <td>-376792167</td>\n",
       "      <td>952</td>\n",
       "      <td>2022-11-22 10:11:00</td>\n",
       "      <td>004-0010-00562</td>\n",
       "      <td>0.098045</td>\n",
       "      <td>0.712305</td>\n",
       "      <td>354.456898</td>\n",
       "    </tr>\n",
       "    <tr>\n",
       "      <th>1</th>\n",
       "      <td>1755903383</td>\n",
       "      <td>-376792167</td>\n",
       "      <td>258</td>\n",
       "      <td>2022-11-22 10:11:00</td>\n",
       "      <td>004-0010-00562</td>\n",
       "      <td>-0.090663</td>\n",
       "      <td>0.627568</td>\n",
       "      <td>354.639435</td>\n",
       "    </tr>\n",
       "    <tr>\n",
       "      <th>2</th>\n",
       "      <td>1755903400</td>\n",
       "      <td>-376792167</td>\n",
       "      <td>666</td>\n",
       "      <td>2022-11-22 10:11:00</td>\n",
       "      <td>004-0010-00562</td>\n",
       "      <td>-0.156609</td>\n",
       "      <td>0.026911</td>\n",
       "      <td>353.375315</td>\n",
       "    </tr>\n",
       "    <tr>\n",
       "      <th>3</th>\n",
       "      <td>1755903400</td>\n",
       "      <td>-376792183</td>\n",
       "      <td>320</td>\n",
       "      <td>2022-11-22 10:11:00</td>\n",
       "      <td>004-0010-00562</td>\n",
       "      <td>-0.448115</td>\n",
       "      <td>0.379047</td>\n",
       "      <td>353.842375</td>\n",
       "    </tr>\n",
       "    <tr>\n",
       "      <th>4</th>\n",
       "      <td>1755903400</td>\n",
       "      <td>-376792183</td>\n",
       "      <td>403</td>\n",
       "      <td>2022-11-22 10:11:00</td>\n",
       "      <td>004-0010-00562</td>\n",
       "      <td>-0.582295</td>\n",
       "      <td>1.248040</td>\n",
       "      <td>352.699415</td>\n",
       "    </tr>\n",
       "  </tbody>\n",
       "</table>\n",
       "</div>"
      ],
      "text/plain": [
       "    longitude   latitude  odba                NZDT   serial_number     pitch  \\\n",
       "0  1755903383 -376792167   952 2022-11-22 10:11:00  004-0010-00562  0.098045   \n",
       "1  1755903383 -376792167   258 2022-11-22 10:11:00  004-0010-00562 -0.090663   \n",
       "2  1755903400 -376792167   666 2022-11-22 10:11:00  004-0010-00562 -0.156609   \n",
       "3  1755903400 -376792183   320 2022-11-22 10:11:00  004-0010-00562 -0.448115   \n",
       "4  1755903400 -376792183   403 2022-11-22 10:11:00  004-0010-00562 -0.582295   \n",
       "\n",
       "       roll     heading  \n",
       "0  0.712305  354.456898  \n",
       "1  0.627568  354.639435  \n",
       "2  0.026911  353.375315  \n",
       "3  0.379047  353.842375  \n",
       "4  1.248040  352.699415  "
      ]
     },
     "execution_count": 11,
     "metadata": {},
     "output_type": "execute_result"
    }
   ],
   "source": [
    "#checking the NZDT date \n",
    "data1.head()"
   ]
  },
  {
   "cell_type": "code",
   "execution_count": 12,
   "id": "4b84729b",
   "metadata": {},
   "outputs": [
    {
     "data": {
      "text/html": [
       "<div>\n",
       "<style scoped>\n",
       "    .dataframe tbody tr th:only-of-type {\n",
       "        vertical-align: middle;\n",
       "    }\n",
       "\n",
       "    .dataframe tbody tr th {\n",
       "        vertical-align: top;\n",
       "    }\n",
       "\n",
       "    .dataframe thead th {\n",
       "        text-align: right;\n",
       "    }\n",
       "</style>\n",
       "<table border=\"1\" class=\"dataframe\">\n",
       "  <thead>\n",
       "    <tr style=\"text-align: right;\">\n",
       "      <th></th>\n",
       "      <th>longitude</th>\n",
       "      <th>latitude</th>\n",
       "      <th>odba</th>\n",
       "      <th>NZDT</th>\n",
       "      <th>serial_number</th>\n",
       "      <th>pitch</th>\n",
       "      <th>roll</th>\n",
       "      <th>heading</th>\n",
       "    </tr>\n",
       "  </thead>\n",
       "  <tbody>\n",
       "    <tr>\n",
       "      <th>41815</th>\n",
       "      <td>1755887900</td>\n",
       "      <td>-376871533</td>\n",
       "      <td>2471</td>\n",
       "      <td>2022-11-23 09:13:00</td>\n",
       "      <td>004-0010-00562</td>\n",
       "      <td>-33.338960</td>\n",
       "      <td>10.824896</td>\n",
       "      <td>252.698378</td>\n",
       "    </tr>\n",
       "    <tr>\n",
       "      <th>41816</th>\n",
       "      <td>1755887900</td>\n",
       "      <td>-376871533</td>\n",
       "      <td>415</td>\n",
       "      <td>2022-11-23 09:13:00</td>\n",
       "      <td>004-0010-00562</td>\n",
       "      <td>-31.108548</td>\n",
       "      <td>14.303449</td>\n",
       "      <td>251.367882</td>\n",
       "    </tr>\n",
       "    <tr>\n",
       "      <th>41817</th>\n",
       "      <td>1755887900</td>\n",
       "      <td>-376871533</td>\n",
       "      <td>2996</td>\n",
       "      <td>2022-11-23 09:13:00</td>\n",
       "      <td>004-0010-00562</td>\n",
       "      <td>-32.441940</td>\n",
       "      <td>17.081111</td>\n",
       "      <td>267.955888</td>\n",
       "    </tr>\n",
       "    <tr>\n",
       "      <th>41818</th>\n",
       "      <td>1755887900</td>\n",
       "      <td>-376871550</td>\n",
       "      <td>717</td>\n",
       "      <td>2022-11-23 09:13:00</td>\n",
       "      <td>004-0010-00562</td>\n",
       "      <td>-28.915565</td>\n",
       "      <td>12.137690</td>\n",
       "      <td>264.973035</td>\n",
       "    </tr>\n",
       "    <tr>\n",
       "      <th>41819</th>\n",
       "      <td>1755887900</td>\n",
       "      <td>-376871550</td>\n",
       "      <td>1335</td>\n",
       "      <td>2022-11-23 09:13:00</td>\n",
       "      <td>004-0010-00562</td>\n",
       "      <td>-30.552178</td>\n",
       "      <td>23.400449</td>\n",
       "      <td>273.405247</td>\n",
       "    </tr>\n",
       "  </tbody>\n",
       "</table>\n",
       "</div>"
      ],
      "text/plain": [
       "        longitude   latitude  odba                NZDT   serial_number  \\\n",
       "41815  1755887900 -376871533  2471 2022-11-23 09:13:00  004-0010-00562   \n",
       "41816  1755887900 -376871533   415 2022-11-23 09:13:00  004-0010-00562   \n",
       "41817  1755887900 -376871533  2996 2022-11-23 09:13:00  004-0010-00562   \n",
       "41818  1755887900 -376871550   717 2022-11-23 09:13:00  004-0010-00562   \n",
       "41819  1755887900 -376871550  1335 2022-11-23 09:13:00  004-0010-00562   \n",
       "\n",
       "           pitch       roll     heading  \n",
       "41815 -33.338960  10.824896  252.698378  \n",
       "41816 -31.108548  14.303449  251.367882  \n",
       "41817 -32.441940  17.081111  267.955888  \n",
       "41818 -28.915565  12.137690  264.973035  \n",
       "41819 -30.552178  23.400449  273.405247  "
      ]
     },
     "execution_count": 12,
     "metadata": {},
     "output_type": "execute_result"
    }
   ],
   "source": [
    "#making sure the date increment by 1 next day\n",
    "data1.tail()"
   ]
  },
  {
   "cell_type": "code",
   "execution_count": 13,
   "id": "ef585128",
   "metadata": {},
   "outputs": [
    {
     "data": {
      "image/png": "[encoded data removed]",
      "text/plain": [
       "<Figure size 432x288 with 1 Axes>"
      ]
     },
     "metadata": {
      "needs_background": "light"
     },
     "output_type": "display_data"
    }
   ],
   "source": [
    "#plot the longitude and latitude graph for each serial number \n",
    "import matplotlib.pyplot as plt\n",
    "plt.scatter(data1[\"longitude\"], data1[\"latitude\"])\n",
    "plt.xlabel('Longitude')\n",
    "plt.ylabel('Latitude')\n",
    "plt.title(\"004-0010-00562\")\n",
    "plt.show()"
   ]
  },
  {
   "cell_type": "code",
   "execution_count": null,
   "id": "6358d590",
   "metadata": {},
   "outputs": [],
   "source": []
  },
  {
   "cell_type": "code",
   "execution_count": 14,
   "id": "2298d244",
   "metadata": {},
   "outputs": [
    {
     "data": {
      "image/png": "[encoded data removed]",
      "text/plain": [
       "<Figure size 432x288 with 1 Axes>"
      ]
     },
     "metadata": {
      "needs_background": "light"
     },
     "output_type": "display_data"
    }
   ],
   "source": [
    "import matplotlib.pyplot as plt\n",
    "plt.scatter(data2[\"longitude\"], data2[\"latitude\"])\n",
    "plt.xlabel('Longitude')\n",
    "plt.ylabel('Latitude')\n",
    "plt.title(\"004-0011-00176\")\n",
    "plt.show()"
   ]
  },
  {
   "cell_type": "code",
   "execution_count": 15,
   "id": "bb9a3ca3",
   "metadata": {},
   "outputs": [
    {
     "data": {
      "image/png": "[encoded data removed]",
      "text/plain": [
       "<Figure size 432x288 with 1 Axes>"
      ]
     },
     "metadata": {
      "needs_background": "light"
     },
     "output_type": "display_data"
    }
   ],
   "source": [
    "import matplotlib.pyplot as plt\n",
    "plt.scatter(data3[\"longitude\"], data3[\"latitude\"])\n",
    "plt.xlabel('Longitude')\n",
    "plt.ylabel('Latitude')\n",
    "plt.title(\"004-0011-01185\")\n",
    "plt.show()"
   ]
  },
  {
   "cell_type": "code",
   "execution_count": 16,
   "id": "52e7e7e7",
   "metadata": {},
   "outputs": [
    {
     "data": {
      "image/png": "[encoded data removed]",
      "text/plain": [
       "<Figure size 432x288 with 1 Axes>"
      ]
     },
     "metadata": {
      "needs_background": "light"
     },
     "output_type": "display_data"
    }
   ],
   "source": [
    "import matplotlib.pyplot as plt\n",
    "plt.scatter(data4[\"longitude\"], data4[\"latitude\"])\n",
    "plt.xlabel('Longitude')\n",
    "plt.ylabel('Latitude')\n",
    "plt.title(\"004-0015-01111\")\n",
    "plt.show()"
   ]
  },
  {
   "cell_type": "code",
   "execution_count": 17,
   "id": "e3d97cd4",
   "metadata": {},
   "outputs": [
    {
     "data": {
      "image/png": "[encoded data removed]",
      "text/plain": [
       "<Figure size 432x288 with 1 Axes>"
      ]
     },
     "metadata": {
      "needs_background": "light"
     },
     "output_type": "display_data"
    }
   ],
   "source": [
    "import matplotlib.pyplot as plt\n",
    "plt.scatter(data5[\"longitude\"], data5[\"latitude\"])\n",
    "plt.xlabel('Longitude')\n",
    "plt.ylabel('Latitude')\n",
    "plt.title(\"004-9035-00398\")\n",
    "plt.show()"
   ]
  },
  {
   "cell_type": "code",
   "execution_count": 18,
   "id": "c29986a7",
   "metadata": {},
   "outputs": [
    {
     "data": {
      "image/png": "[encoded data removed]",
      "text/plain": [
       "<Figure size 432x288 with 1 Axes>"
      ]
     },
     "metadata": {
      "needs_background": "light"
     },
     "output_type": "display_data"
    }
   ],
   "source": [
    "import matplotlib.pyplot as plt\n",
    "plt.scatter(data6[\"longitude\"], data6[\"latitude\"])\n",
    "plt.xlabel('Longitude')\n",
    "plt.ylabel('Latitude')\n",
    "plt.title(\"004-9037-00232\")\n",
    "plt.show()"
   ]
  },
  {
   "cell_type": "code",
   "execution_count": 19,
   "id": "680c4199",
   "metadata": {},
   "outputs": [
    {
     "data": {
      "image/png": "[encoded data removed]",
      "text/plain": [
       "<Figure size 432x288 with 1 Axes>"
      ]
     },
     "metadata": {
      "needs_background": "light"
     },
     "output_type": "display_data"
    }
   ],
   "source": [
    "import matplotlib.pyplot as plt\n",
    "plt.scatter(data7[\"longitude\"], data7[\"latitude\"])\n",
    "plt.xlabel('Longitude')\n",
    "plt.ylabel('Latitude')\n",
    "plt.title(\"004-9038-00041\")\n",
    "plt.show()"
   ]
  },
  {
   "cell_type": "code",
   "execution_count": null,
   "id": "18f19ead",
   "metadata": {},
   "outputs": [],
   "source": []
  }
 ],
 "metadata": {
  "kernelspec": {
   "display_name": "Python 3",
   "language": "python",
   "name": "python3"
  },
  "language_info": {
   "codemirror_mode": {
    "name": "ipython",
    "version": 3
   },
   "file_extension": ".py",
   "mimetype": "text/x-python",
   "name": "python",
   "nbconvert_exporter": "python",
   "pygments_lexer": "ipython3",
   "version": "3.8.8"
  }
 },
 "nbformat": 4,
 "nbformat_minor": 5
}
